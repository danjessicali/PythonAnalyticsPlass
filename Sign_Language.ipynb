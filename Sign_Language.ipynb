{
 "cells": [
  {
   "cell_type": "code",
   "execution_count": 109,
   "metadata": {},
   "outputs": [],
   "source": [
    "# Import all the necessary files!\n",
    "import numpy as np\n",
    "import pandas as pd\n",
    "import tensorflow as tf\n",
    "from tensorflow.keras import layers\n",
    "from tensorflow.keras import Model\n",
    "import matplotlib.pyplot as plt\n",
    "import seaborn as sns\n",
    "from tensorflow.keras.utils import to_categorical\n",
    "from tensorflow.keras.preprocessing.image import ImageDataGenerator"
   ]
  },
  {
   "cell_type": "code",
   "execution_count": 81,
   "metadata": {},
   "outputs": [],
   "source": [
    "train_df = pd.read_csv(\"../mnist/input/sign_mnist_train.csv\")\n",
    "test_df = pd.read_csv(\"../mnist/input/sign_mnist_test.csv\")"
   ]
  },
  {
   "cell_type": "markdown",
   "metadata": {},
   "source": [
    "# Data Exploration & Visualization"
   ]
  },
  {
   "cell_type": "code",
   "execution_count": 72,
   "metadata": {},
   "outputs": [
    {
     "name": "stdout",
     "output_type": "stream",
     "text": [
      "(27455, 785)\n",
      "(7172, 785)\n"
     ]
    }
   ],
   "source": [
    "print(train_df.shape)\n",
    "print(test_df.shape)"
   ]
  },
  {
   "cell_type": "code",
   "execution_count": 73,
   "metadata": {},
   "outputs": [
    {
     "data": {
      "text/plain": [
       "array([ 0,  1,  2,  3,  4,  5,  6,  7,  8, 10, 11, 12, 13, 14, 15, 16, 17,\n",
       "       18, 19, 20, 21, 22, 23, 24])"
      ]
     },
     "execution_count": 73,
     "metadata": {},
     "output_type": "execute_result"
    }
   ],
   "source": [
    "# see the labels: 0-24\n",
    "labels = train_df['label'].values\n",
    "np.unique(labels)"
   ]
  },
  {
   "cell_type": "code",
   "execution_count": 74,
   "metadata": {},
   "outputs": [
    {
     "data": {
      "text/plain": [
       "<matplotlib.axes._subplots.AxesSubplot at 0x645e51850>"
      ]
     },
     "execution_count": 74,
     "metadata": {},
     "output_type": "execute_result"
    },
    {
     "data": {
      "image/png": "[encoded data removed]",
      "text/plain": [
       "<Figure size 720x720 with 1 Axes>"
      ]
     },
     "metadata": {},
     "output_type": "display_data"
    }
   ],
   "source": [
    "# see the count of 25 lables, and they are balanced\n",
    "plt.figure(figsize = (10,10)) # Label Count\n",
    "sns.set_style(\"darkgrid\")\n",
    "sns.countplot(train_df['label'])"
   ]
  },
  {
   "cell_type": "code",
   "execution_count": 82,
   "metadata": {},
   "outputs": [
    {
     "name": "stdout",
     "output_type": "stream",
     "text": [
      "(27455, 785)\n",
      "(27455,)\n",
      "(7172, 785)\n",
      "(7172,)\n"
     ]
    }
   ],
   "source": [
    "# creating x and y variables for training and testing\n",
    "y_train = train_df['label']\n",
    "y_test = test_df['label']\n",
    "print(train_df.shape)\n",
    "print(y_train.shape)\n",
    "print(test_df.shape)\n",
    "print(y_test.shape)"
   ]
  },
  {
   "cell_type": "code",
   "execution_count": 105,
   "metadata": {},
   "outputs": [],
   "source": [
    "del train_df['label']\n",
    "del test_df['label']"
   ]
  },
  {
   "cell_type": "code",
   "execution_count": 87,
   "metadata": {},
   "outputs": [],
   "source": [
    "# transform the labels to binary\n",
    "testing_labels = to_categorical(y_test)\n",
    "training_labels = to_categorical(y_train)"
   ]
  },
  {
   "cell_type": "code",
   "execution_count": 106,
   "metadata": {},
   "outputs": [],
   "source": [
    "# Normalizing the training and test data\n",
    "#Reshaping the data from 1-D to 3-D as required through input by CNN's\n",
    "train = train_df.values/ 255\n",
    "test = test_df.values / 255\n",
    "training_image = train.reshape(train.shape[0], 28, 28, 1)\n",
    "testing_image = test.reshape(test.shape[0], 28, 28, 1)"
   ]
  },
  {
   "cell_type": "code",
   "execution_count": 107,
   "metadata": {},
   "outputs": [
    {
     "data": {
      "image/png": "[encoded data removed]",
      "text/plain": [
       "<Figure size 432x288 with 1 Axes>"
      ]
     },
     "metadata": {},
     "output_type": "display_data"
    }
   ],
   "source": [
    "# reshape to 28*28 and show the image, Image d\n",
    "images = np.array([np.reshape(i, (28, 28)) for i in train_df.values])\n",
    "fig, ax = plt.subplots()\n",
    "im = ax.imshow(images[0])\n",
    "ax.axis('off')\n",
    "plt.show()"
   ]
  },
  {
   "cell_type": "markdown",
   "metadata": {},
   "source": [
    "# Image Augmentation "
   ]
  },
  {
   "cell_type": "code",
   "execution_count": 114,
   "metadata": {},
   "outputs": [
    {
     "name": "stdout",
     "output_type": "stream",
     "text": [
      "(27455, 28, 28, 1)\n"
     ]
    }
   ],
   "source": [
    "# Create an ImageDataGenerator and do Image Augmentation\n",
    "train_datagen = ImageDataGenerator(rotation_range = 10,\n",
    "                                   width_shift_range = 0.2,\n",
    "                                   height_shift_range = 0.2,\n",
    "                                   shear_range = 0.2,\n",
    "                                   zoom_range = 0.1,\n",
    "                                   horizontal_flip = False,\n",
    "                                   vertical_flip=False\n",
    "    )\n",
    "\n",
    "train_datagen.fit(training_image)\n",
    "\n",
    "# validation image not augmented \n",
    "print(training_image.shape)\n",
    "    "
   ]
  },
  {
   "cell_type": "code",
   "execution_count": 118,
   "metadata": {},
   "outputs": [],
   "source": [
    "# Define a Callback class that stops training once accuracy reaches 90.0%\n",
    "class myCallback(tf.keras.callbacks.Callback):\n",
    "    def on_epoch_end(self, epoch, logs={}):\n",
    "        if(logs.get('accuracy') >0.97):\n",
    "            print(\"\\nReached 90% accuracy so cancelling training!\")\n",
    "            self.model.stop_training = True\n"
   ]
  },
  {
   "cell_type": "markdown",
   "metadata": {},
   "source": [
    "# Model"
   ]
  },
  {
   "cell_type": "code",
   "execution_count": 129,
   "metadata": {},
   "outputs": [
    {
     "name": "stdout",
     "output_type": "stream",
     "text": [
      "Epoch 1/20\n",
      "858/858 [==============================] - 48s 56ms/step - loss: 3.1758 - accuracy: 0.0530 - val_loss: 3.1489 - val_accuracy: 0.0364\n",
      "Epoch 2/20\n",
      "858/858 [==============================] - 44s 51ms/step - loss: 3.0544 - accuracy: 0.1073 - val_loss: 2.7860 - val_accuracy: 0.1803\n",
      "Epoch 3/20\n",
      "858/858 [==============================] - 54s 62ms/step - loss: 2.8292 - accuracy: 0.1679 - val_loss: 2.4485 - val_accuracy: 0.2423\n",
      "Epoch 4/20\n",
      "858/858 [==============================] - 51s 60ms/step - loss: 2.6006 - accuracy: 0.2304 - val_loss: 2.1050 - val_accuracy: 0.4126\n",
      "Epoch 5/20\n",
      "858/858 [==============================] - 58s 68ms/step - loss: 2.3175 - accuracy: 0.3073 - val_loss: 1.7480 - val_accuracy: 0.4848\n",
      "Epoch 6/20\n",
      "858/858 [==============================] - 51s 60ms/step - loss: 1.9512 - accuracy: 0.4083 - val_loss: 1.2910 - val_accuracy: 0.6210\n",
      "Epoch 7/20\n",
      "858/858 [==============================] - 64s 75ms/step - loss: 1.5995 - accuracy: 0.5074 - val_loss: 1.2686 - val_accuracy: 0.6054\n",
      "Epoch 8/20\n",
      "858/858 [==============================] - 59s 69ms/step - loss: 1.3052 - accuracy: 0.5931 - val_loss: 0.7836 - val_accuracy: 0.7418\n",
      "Epoch 9/20\n",
      "858/858 [==============================] - 43s 50ms/step - loss: 1.0741 - accuracy: 0.6591 - val_loss: 0.6402 - val_accuracy: 0.7942\n",
      "Epoch 10/20\n",
      "858/858 [==============================] - 36s 42ms/step - loss: 0.9049 - accuracy: 0.7124 - val_loss: 0.5102 - val_accuracy: 0.8450\n",
      "Epoch 11/20\n",
      "858/858 [==============================] - 39s 46ms/step - loss: 0.7605 - accuracy: 0.7545 - val_loss: 0.5697 - val_accuracy: 0.7899\n",
      "Epoch 12/20\n",
      "858/858 [==============================] - 46s 53ms/step - loss: 0.6562 - accuracy: 0.7910 - val_loss: 0.3460 - val_accuracy: 0.9000\n",
      "Epoch 13/20\n",
      "858/858 [==============================] - 50s 58ms/step - loss: 0.5744 - accuracy: 0.8164 - val_loss: 0.3127 - val_accuracy: 0.8882\n",
      "Epoch 14/20\n",
      "858/858 [==============================] - 50s 59ms/step - loss: 0.5061 - accuracy: 0.8383 - val_loss: 0.2564 - val_accuracy: 0.9078\n",
      "Epoch 15/20\n",
      "858/858 [==============================] - 50s 59ms/step - loss: 0.4487 - accuracy: 0.8546 - val_loss: 0.2177 - val_accuracy: 0.9360\n",
      "Epoch 16/20\n",
      "858/858 [==============================] - 50s 58ms/step - loss: 0.4036 - accuracy: 0.8703 - val_loss: 0.1700 - val_accuracy: 0.9499\n",
      "Epoch 17/20\n",
      "858/858 [==============================] - 60s 69ms/step - loss: 0.3629 - accuracy: 0.8833 - val_loss: 0.1388 - val_accuracy: 0.9573\n",
      "Epoch 18/20\n",
      "858/858 [==============================] - 43s 50ms/step - loss: 0.3313 - accuracy: 0.8908 - val_loss: 0.1970 - val_accuracy: 0.9363\n",
      "Epoch 19/20\n",
      "858/858 [==============================] - 46s 53ms/step - loss: 0.2988 - accuracy: 0.9045 - val_loss: 0.1422 - val_accuracy: 0.9550\n",
      "Epoch 20/20\n",
      "858/858 [==============================] - 47s 54ms/step - loss: 0.2851 - accuracy: 0.9078 - val_loss: 0.1307 - val_accuracy: 0.9603\n"
     ]
    },
    {
     "data": {
      "text/plain": [
       "[0.13069841265678406, 0.96026211977005]"
      ]
     },
     "execution_count": 129,
     "metadata": {},
     "output_type": "execute_result"
    }
   ],
   "source": [
    "# Define the model\n",
    "\n",
    "model = tf.keras.models.Sequential([\n",
    "    tf.keras.layers.Conv2D(75, (3,3), activation='relu', input_shape=(28, 28, 1)),\n",
    "    tf.keras.layers.MaxPooling2D(2, 2),\n",
    "    # The second convolution\n",
    "    tf.keras.layers.Conv2D(50, (3,3), activation='relu'),\n",
    "    tf.keras.layers.MaxPooling2D(2,2),\n",
    "    # Flatten the results to feed into a DNN\n",
    "    tf.keras.layers.Flatten(),\n",
    "    # 512 neuron hidden layer\n",
    "    tf.keras.layers.Dense(512, activation='relu'),\n",
    "    tf.keras.layers.Dense(25, activation='softmax')]\n",
    "    )\n",
    "\n",
    "# Compile Model. \n",
    "model.compile(loss = 'categorical_crossentropy', optimizer='sgd', metrics=['accuracy'])\n",
    "\n",
    "train_generator = train_datagen.flow(training_image,training_labels)\n",
    "\n",
    "# Train the Model\n",
    "history = model.fit_generator(train_generator,\n",
    "                    epochs=20, \n",
    "                    validation_data = (testing_image, testing_labels),\n",
    "                     callbacks = [myCallback()])\n",
    "\n",
    "\n",
    "\n",
    "model.evaluate(testing_image, testing_labels, verbose=10)"
   ]
  },
  {
   "cell_type": "code",
   "execution_count": 122,
   "metadata": {},
   "outputs": [
    {
     "data": {
      "image/png": "[encoded data removed]",
      "text/plain": [
       "<Figure size 432x288 with 1 Axes>"
      ]
     },
     "metadata": {
      "needs_background": "light"
     },
     "output_type": "display_data"
    },
    {
     "data": {
      "image/png": "[encoded data removed]",
      "text/plain": [
       "<Figure size 432x288 with 1 Axes>"
      ]
     },
     "metadata": {
      "needs_background": "light"
     },
     "output_type": "display_data"
    }
   ],
   "source": [
    "%matplotlib inline\n",
    "import matplotlib.pyplot as plt\n",
    "acc =  history.history['accuracy']\n",
    "val_acc = history.history['val_accuracy']\n",
    "loss = history.history['loss']\n",
    "val_loss = history.history['val_loss']\n",
    "\n",
    "epochs = range(len(acc))\n",
    "\n",
    "plt.plot(epochs, acc, 'r', label='Training accuracy')\n",
    "plt.plot(epochs, val_acc, 'b', label='Validation accuracy')\n",
    "plt.title('Training and validation accuracy')\n",
    "plt.legend()\n",
    "plt.figure()\n",
    "\n",
    "plt.plot(epochs, loss, 'r', label='Training Loss')\n",
    "plt.plot(epochs, val_loss, 'b', label='Validation Loss')\n",
    "plt.title('Training and validation loss')\n",
    "plt.legend()\n",
    "\n",
    "plt.show()"
   ]
  },
  {
   "cell_type": "code",
   "execution_count": 125,
   "metadata": {},
   "outputs": [],
   "source": [
    "y_pred = model.predict(testing_image)"
   ]
  },
  {
   "cell_type": "code",
   "execution_count": 126,
   "metadata": {},
   "outputs": [
    {
     "data": {
      "text/plain": [
       "0.9291689905186837"
      ]
     },
     "execution_count": 126,
     "metadata": {},
     "output_type": "execute_result"
    }
   ],
   "source": [
    "from sklearn.metrics import accuracy_score\n",
    "accuracy_score(testing_labels, y_pred.round())"
   ]
  }
 ],
 "metadata": {
  "kernelspec": {
   "display_name": "Python 3",
   "language": "python",
   "name": "python3"
  },
  "language_info": {
   "codemirror_mode": {
    "name": "ipython",
    "version": 3
   },
   "file_extension": ".py",
   "mimetype": "text/x-python",
   "name": "python",
   "nbconvert_exporter": "python",
   "pygments_lexer": "ipython3",
   "version": "3.7.6"
  }
 },
 "nbformat": 4,
 "nbformat_minor": 4
}
